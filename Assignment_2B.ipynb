{
  "nbformat": 4,
  "nbformat_minor": 0,
  "metadata": {
    "colab": {
      "name": "python_numpy_tutorial.ipynb",
      "version": "0.3.2",
      "views": {},
      "default_view": {},
      "provenance": []
    },
    "kernelspec": {
      "name": "python3",
      "display_name": "Python 3"
    }
  },
  "cells": [
    {
      "metadata": {
        "id": "qMqAAE5T_BVk",
        "colab_type": "text"
      },
      "cell_type": "markdown",
      "source": [
        "Python is a great general-purpose programming language on its own, but with the help of a few popular libraries (numpy, scipy, matplotlib) it becomes a powerful environment for scientific computing.\n",
        "\n",
        "In this notebook, I have cloned provided [notebook](https://github.com/machinelearningblr/machinelearningblr.github.io/blob/master/tutorials/CS231n-Materials/CS231n-python-numpy-tutorial.ipynb) and change all the variables with **eip, mlblr, eip_in, eip_out, mlblr_in, mlblr_out, eip_list, eip_dict**. "
      ]
    },
    {
      "metadata": {
        "id": "arW7KwGU-yKi",
        "colab_type": "code",
        "colab": {
          "autoexec": {
            "startup": false,
            "wait_interval": 0
          },
          "base_uri": "https://localhost:8080/",
          "height": 34
        },
        "outputId": "5edb200b-389a-4441-f71a-af958233da5d",
        "executionInfo": {
          "status": "ok",
          "timestamp": 1525183292054,
          "user_tz": -330,
          "elapsed": 1123,
          "user": {
            "displayName": "Ayush Kumar",
            "photoUrl": "//lh5.googleusercontent.com/-sM-9Lx9a9ho/AAAAAAAAAAI/AAAAAAAAAJA/r4M9qnWrAms/s50-c-k-no/photo.jpg",
            "userId": "116077844964253791252"
          }
        }
      },
      "cell_type": "code",
      "source": [
        "# Quicksort implementation using python\n",
        "def quicksort(eip):\n",
        "    if len(eip) <= 1:\n",
        "        return eip\n",
        "    mlblr = eip[len(eip) // 2]\n",
        "    left_mlblr = [x for x in eip if x < mlblr]\n",
        "    middle_mlblr = [x for x in eip if x == mlblr]\n",
        "    right_mlblr = [x for x in eip if x > mlblr]\n",
        "    return quicksort(left_mlblr) + middle_mlblr + quicksort(right_mlblr)\n",
        "\n",
        "print(quicksort([3,6,8,10,1,2,1]))\n",
        "# Prints \"[1, 1, 2, 3, 6, 8, 10]\""
      ],
      "execution_count": 2,
      "outputs": [
        {
          "output_type": "stream",
          "text": [
            "[1, 1, 2, 3, 6, 8, 10]\n"
          ],
          "name": "stdout"
        }
      ]
    },
    {
      "metadata": {
        "id": "XxOyN8Cw_9w-",
        "colab_type": "code",
        "colab": {
          "autoexec": {
            "startup": false,
            "wait_interval": 0
          },
          "base_uri": "https://localhost:8080/",
          "height": 187
        },
        "outputId": "103c9220-9f53-4b6f-db4c-affb2a9a70cb",
        "executionInfo": {
          "status": "ok",
          "timestamp": 1525183382106,
          "user_tz": -330,
          "elapsed": 982,
          "user": {
            "displayName": "Ayush Kumar",
            "photoUrl": "//lh5.googleusercontent.com/-sM-9Lx9a9ho/AAAAAAAAAAI/AAAAAAAAAJA/r4M9qnWrAms/s50-c-k-no/photo.jpg",
            "userId": "116077844964253791252"
          }
        }
      },
      "cell_type": "code",
      "source": [
        "# Basic Datatypes\n",
        "\n",
        "eip = 3\n",
        "print(type(eip)) # Prints \"<class 'int'>\"\n",
        "print(eip)       # Prints \"3\"\n",
        "print(eip + 1)   # Addition; prints \"4\"\n",
        "print(eip - 1)   # Subtraction; prints \"2\"\n",
        "print(eip * 2)   # Multiplication; prints \"6\"\n",
        "print(eip ** 2)  # Exponentiation; prints \"9\"\n",
        "eip += 1\n",
        "print(eip)  # Prints \"4\"\n",
        "eip *= 2\n",
        "print(eip)  # Prints \"8\"\n",
        "mlblr = 2.5\n",
        "print(type(mlblr)) # Prints \"<class 'float'>\"\n",
        "print(mlblr, mlblr + 1, mlblr * 2, mlblr ** 2) # Prints \"2.5 3.5 5.0 6.25\""
      ],
      "execution_count": 3,
      "outputs": [
        {
          "output_type": "stream",
          "text": [
            "<class 'int'>\n",
            "3\n",
            "4\n",
            "2\n",
            "6\n",
            "9\n",
            "4\n",
            "8\n",
            "<class 'float'>\n",
            "2.5 3.5 5.0 6.25\n"
          ],
          "name": "stdout"
        }
      ]
    },
    {
      "metadata": {
        "id": "LWoSpQ40A35X",
        "colab_type": "code",
        "colab": {
          "autoexec": {
            "startup": false,
            "wait_interval": 0
          },
          "base_uri": "https://localhost:8080/",
          "height": 102
        },
        "outputId": "c88e0836-c7f2-46e6-f8fd-e443a4fefda8",
        "executionInfo": {
          "status": "ok",
          "timestamp": 1525183458628,
          "user_tz": -330,
          "elapsed": 962,
          "user": {
            "displayName": "Ayush Kumar",
            "photoUrl": "//lh5.googleusercontent.com/-sM-9Lx9a9ho/AAAAAAAAAAI/AAAAAAAAAJA/r4M9qnWrAms/s50-c-k-no/photo.jpg",
            "userId": "116077844964253791252"
          }
        }
      },
      "cell_type": "code",
      "source": [
        "# Boolean\n",
        "eip = True\n",
        "mlblr = False\n",
        "print(type(eip)) # Prints \"<class 'bool'>\"\n",
        "print(eip and mlblr) # Logical AND; prints \"False\"\n",
        "print(eip or mlblr)  # Logical OR; prints \"True\"\n",
        "print(not eip)   # Logical NOT; prints \"False\"\n",
        "print(eip != mlblr)  # Logical XOR; prints \"True\""
      ],
      "execution_count": 4,
      "outputs": [
        {
          "output_type": "stream",
          "text": [
            "<class 'bool'>\n",
            "False\n",
            "True\n",
            "False\n",
            "True\n"
          ],
          "name": "stdout"
        }
      ]
    },
    {
      "metadata": {
        "id": "il5jIcNzBKlW",
        "colab_type": "code",
        "colab": {
          "autoexec": {
            "startup": false,
            "wait_interval": 0
          },
          "base_uri": "https://localhost:8080/",
          "height": 85
        },
        "outputId": "879817af-cf8f-4bc2-b88d-1901d34712ef",
        "executionInfo": {
          "status": "ok",
          "timestamp": 1525183590542,
          "user_tz": -330,
          "elapsed": 1143,
          "user": {
            "displayName": "Ayush Kumar",
            "photoUrl": "//lh5.googleusercontent.com/-sM-9Lx9a9ho/AAAAAAAAAAI/AAAAAAAAAJA/r4M9qnWrAms/s50-c-k-no/photo.jpg",
            "userId": "116077844964253791252"
          }
        }
      },
      "cell_type": "code",
      "source": [
        "# String\n",
        "\n",
        "eip = 'hello'    # String literals can use single quotes\n",
        "mlblr = \"world\"    # or double quotes; it does not matter.\n",
        "print(eip)       # Prints \"hello\"\n",
        "print(len(eip))  # String length; prints \"5\"\n",
        "hw = eip + ' ' + mlblr  # String concatenation\n",
        "print(hw)  # prints \"hello world\"\n",
        "hw12 = '%s %s %d' % (eip, mlblr, 12)  # sprintf style string formatting\n",
        "print(hw12)  # prints \"hello world 12\""
      ],
      "execution_count": 5,
      "outputs": [
        {
          "output_type": "stream",
          "text": [
            "hello\n",
            "5\n",
            "hello world\n",
            "hello world 12\n"
          ],
          "name": "stdout"
        }
      ]
    },
    {
      "metadata": {
        "id": "qCRxHGFmBqvi",
        "colab_type": "code",
        "colab": {
          "autoexec": {
            "startup": false,
            "wait_interval": 0
          },
          "base_uri": "https://localhost:8080/",
          "height": 119
        },
        "outputId": "d6219e97-f8f6-43ba-a3e9-c6d63193e8be",
        "executionInfo": {
          "status": "ok",
          "timestamp": 1525183630941,
          "user_tz": -330,
          "elapsed": 931,
          "user": {
            "displayName": "Ayush Kumar",
            "photoUrl": "//lh5.googleusercontent.com/-sM-9Lx9a9ho/AAAAAAAAAAI/AAAAAAAAAJA/r4M9qnWrAms/s50-c-k-no/photo.jpg",
            "userId": "116077844964253791252"
          }
        }
      },
      "cell_type": "code",
      "source": [
        "mlblr = \"hello\"\n",
        "print(mlblr.capitalize())  # Capitalize a string; prints \"Hello\"\n",
        "print(mlblr.upper())       # Convert a string to uppercase; prints \"HELLO\"\n",
        "print(mlblr.rjust(7))      # Right-justify a string, padding with spaces; prints \"  hello\"\n",
        "print(mlblr.center(7))     # Center a string, padding with spaces; prints \" hello \"\n",
        "print(mlblr.replace('l', '(ell)'))  # Replace all instances of one substring with another;\n",
        "                                # prints \"he(ell)(ell)o\"\n",
        "print('  world '.strip())  # Strip leading and trailing whitespace; prints \"world\""
      ],
      "execution_count": 6,
      "outputs": [
        {
          "output_type": "stream",
          "text": [
            "Hello\n",
            "HELLO\n",
            "  hello\n",
            " hello \n",
            "he(ell)(ell)o\n",
            "world\n"
          ],
          "name": "stdout"
        }
      ]
    },
    {
      "metadata": {
        "id": "nbW262poB3z4",
        "colab_type": "text"
      },
      "cell_type": "markdown",
      "source": [
        "**Containers**"
      ]
    },
    {
      "metadata": {
        "id": "zJDsmO9LB0qI",
        "colab_type": "code",
        "colab": {
          "autoexec": {
            "startup": false,
            "wait_interval": 0
          },
          "base_uri": "https://localhost:8080/",
          "height": 102
        },
        "outputId": "744c1a6c-bbf2-46c9-aec7-502f0ac42d78",
        "executionInfo": {
          "status": "ok",
          "timestamp": 1525183711651,
          "user_tz": -330,
          "elapsed": 883,
          "user": {
            "displayName": "Ayush Kumar",
            "photoUrl": "//lh5.googleusercontent.com/-sM-9Lx9a9ho/AAAAAAAAAAI/AAAAAAAAAJA/r4M9qnWrAms/s50-c-k-no/photo.jpg",
            "userId": "116077844964253791252"
          }
        }
      },
      "cell_type": "code",
      "source": [
        "# List\n",
        "\n",
        "eip_list = [3, 1, 2]    # Create a list\n",
        "print(eip_list, eip_list[2])  # Prints \"[3, 1, 2] 2\"\n",
        "print(eip_list[-1])     # Negative indices count from the end of the list; prints \"2\"\n",
        "eip_list[2] = 'foo'     # Lists can contain elements of different types\n",
        "print(eip_list)         # Prints \"[3, 1, 'foo']\"\n",
        "eip_list.append('bar')  # Add a new element to the end of the list\n",
        "print(eip_list)         # Prints \"[3, 1, 'foo', 'bar']\"\n",
        "x = eip_list.pop()      # Remove and return the last element of the list\n",
        "print(x, eip_list)      # Prints \"bar [3, 1, 'foo']\""
      ],
      "execution_count": 7,
      "outputs": [
        {
          "output_type": "stream",
          "text": [
            "[3, 1, 2] 2\n",
            "2\n",
            "[3, 1, 'foo']\n",
            "[3, 1, 'foo', 'bar']\n",
            "bar [3, 1, 'foo']\n"
          ],
          "name": "stdout"
        }
      ]
    },
    {
      "metadata": {
        "id": "8x0xDLSCCIYF",
        "colab_type": "code",
        "colab": {
          "autoexec": {
            "startup": false,
            "wait_interval": 0
          },
          "base_uri": "https://localhost:8080/",
          "height": 136
        },
        "outputId": "c1632eb9-f19e-457d-930f-f3d5f2ec1263",
        "executionInfo": {
          "status": "ok",
          "timestamp": 1525183744748,
          "user_tz": -330,
          "elapsed": 1123,
          "user": {
            "displayName": "Ayush Kumar",
            "photoUrl": "//lh5.googleusercontent.com/-sM-9Lx9a9ho/AAAAAAAAAAI/AAAAAAAAAJA/r4M9qnWrAms/s50-c-k-no/photo.jpg",
            "userId": "116077844964253791252"
          }
        }
      },
      "cell_type": "code",
      "source": [
        "# Slicing\n",
        "\n",
        "eip_list = list(range(5))     # range is a built-in function that creates a list of integers\n",
        "print(eip_list)               # Prints \"[0, 1, 2, 3, 4]\"\n",
        "print(eip_list[2:4])          # Get a slice from index 2 to 4 (exclusive); prints \"[2, 3]\"\n",
        "print(eip_list[2:])           # Get a slice from index 2 to the end; prints \"[2, 3, 4]\"\n",
        "print(eip_list[:2])           # Get a slice from the start to index 2 (exclusive); prints \"[0, 1]\"\n",
        "print(eip_list[:])            # Get a slice of the whole list; prints \"[0, 1, 2, 3, 4]\"\n",
        "print(eip_list[:-1])          # Slice indices can be negative; prints \"[0, 1, 2, 3]\"\n",
        "eip_list[2:4] = [8, 9]        # Assign a new sublist to a slice\n",
        "print(eip_list)               # Prints \"[0, 1, 8, 9, 4]\""
      ],
      "execution_count": 8,
      "outputs": [
        {
          "output_type": "stream",
          "text": [
            "[0, 1, 2, 3, 4]\n",
            "[2, 3]\n",
            "[2, 3, 4]\n",
            "[0, 1]\n",
            "[0, 1, 2, 3, 4]\n",
            "[0, 1, 2, 3]\n",
            "[0, 1, 8, 9, 4]\n"
          ],
          "name": "stdout"
        }
      ]
    },
    {
      "metadata": {
        "id": "W_DydxXXCQZc",
        "colab_type": "code",
        "colab": {
          "autoexec": {
            "startup": false,
            "wait_interval": 0
          },
          "base_uri": "https://localhost:8080/",
          "height": 68
        },
        "outputId": "40190877-ac1a-4067-e344-907a0c5408d4",
        "executionInfo": {
          "status": "ok",
          "timestamp": 1525183812426,
          "user_tz": -330,
          "elapsed": 900,
          "user": {
            "displayName": "Ayush Kumar",
            "photoUrl": "//lh5.googleusercontent.com/-sM-9Lx9a9ho/AAAAAAAAAAI/AAAAAAAAAJA/r4M9qnWrAms/s50-c-k-no/photo.jpg",
            "userId": "116077844964253791252"
          }
        }
      },
      "cell_type": "code",
      "source": [
        "# Loops\n",
        "\n",
        "eip_list = ['cat', 'dog', 'monkey']\n",
        "for eip in eip_list:\n",
        "    print(eip)\n",
        "# Prints \"cat\", \"dog\", \"monkey\", each on its own line."
      ],
      "execution_count": 9,
      "outputs": [
        {
          "output_type": "stream",
          "text": [
            "cat\n",
            "dog\n",
            "monkey\n"
          ],
          "name": "stdout"
        }
      ]
    },
    {
      "metadata": {
        "id": "lRl_E9RzCg-Y",
        "colab_type": "code",
        "colab": {
          "autoexec": {
            "startup": false,
            "wait_interval": 0
          },
          "base_uri": "https://localhost:8080/",
          "height": 68
        },
        "outputId": "e1450ee5-580d-438d-d7e5-48f5f22039e9",
        "executionInfo": {
          "status": "ok",
          "timestamp": 1525183871377,
          "user_tz": -330,
          "elapsed": 935,
          "user": {
            "displayName": "Ayush Kumar",
            "photoUrl": "//lh5.googleusercontent.com/-sM-9Lx9a9ho/AAAAAAAAAAI/AAAAAAAAAJA/r4M9qnWrAms/s50-c-k-no/photo.jpg",
            "userId": "116077844964253791252"
          }
        }
      },
      "cell_type": "code",
      "source": [
        "eip_list = ['cat', 'dog', 'monkey']\n",
        "for eip, mlblr in enumerate(eip_list):\n",
        "    print('#%d: %s' % (eip + 1, mlblr))\n",
        "# Prints \"#1: cat\", \"#2: dog\", \"#3: monkey\", each on its own line"
      ],
      "execution_count": 10,
      "outputs": [
        {
          "output_type": "stream",
          "text": [
            "#1: cat\n",
            "#2: dog\n",
            "#3: monkey\n"
          ],
          "name": "stdout"
        }
      ]
    },
    {
      "metadata": {
        "id": "mmfOuhVGCvWv",
        "colab_type": "code",
        "colab": {
          "autoexec": {
            "startup": false,
            "wait_interval": 0
          },
          "base_uri": "https://localhost:8080/",
          "height": 34
        },
        "outputId": "436f53b9-a8e7-4a02-b5f1-aa8784de8659",
        "executionInfo": {
          "status": "ok",
          "timestamp": 1525183939062,
          "user_tz": -330,
          "elapsed": 1157,
          "user": {
            "displayName": "Ayush Kumar",
            "photoUrl": "//lh5.googleusercontent.com/-sM-9Lx9a9ho/AAAAAAAAAAI/AAAAAAAAAJA/r4M9qnWrAms/s50-c-k-no/photo.jpg",
            "userId": "116077844964253791252"
          }
        }
      },
      "cell_type": "code",
      "source": [
        "# list comprehension\n",
        "eip_list = [0, 1, 2, 3, 4]\n",
        "mlblr_list = []\n",
        "for eip in eip_list:\n",
        "    mlblr_list.append(eip ** 2)\n",
        "print(mlblr_list)   # Prints [0, 1, 4, 9, 16]"
      ],
      "execution_count": 11,
      "outputs": [
        {
          "output_type": "stream",
          "text": [
            "[0, 1, 4, 9, 16]\n"
          ],
          "name": "stdout"
        }
      ]
    },
    {
      "metadata": {
        "id": "B3LnX5HRC_1E",
        "colab_type": "code",
        "colab": {
          "autoexec": {
            "startup": false,
            "wait_interval": 0
          },
          "base_uri": "https://localhost:8080/",
          "height": 34
        },
        "outputId": "896cb89e-2276-4680-bd57-1fa6dd9875bf",
        "executionInfo": {
          "status": "ok",
          "timestamp": 1525183980778,
          "user_tz": -330,
          "elapsed": 1091,
          "user": {
            "displayName": "Ayush Kumar",
            "photoUrl": "//lh5.googleusercontent.com/-sM-9Lx9a9ho/AAAAAAAAAAI/AAAAAAAAAJA/r4M9qnWrAms/s50-c-k-no/photo.jpg",
            "userId": "116077844964253791252"
          }
        }
      },
      "cell_type": "code",
      "source": [
        "eip_list = [0, 1, 2, 3, 4]\n",
        "mlblr_list = [eip ** 2 for eip in eip_list]\n",
        "print(mlblr_list)   # Prints [0, 1, 4, 9, 16]"
      ],
      "execution_count": 12,
      "outputs": [
        {
          "output_type": "stream",
          "text": [
            "[0, 1, 4, 9, 16]\n"
          ],
          "name": "stdout"
        }
      ]
    },
    {
      "metadata": {
        "id": "DDIo007dDKB5",
        "colab_type": "code",
        "colab": {
          "autoexec": {
            "startup": false,
            "wait_interval": 0
          },
          "base_uri": "https://localhost:8080/",
          "height": 34
        },
        "outputId": "156aea89-86e6-4de7-fcb1-6905cef5c38b",
        "executionInfo": {
          "status": "ok",
          "timestamp": 1525184026266,
          "user_tz": -330,
          "elapsed": 1120,
          "user": {
            "displayName": "Ayush Kumar",
            "photoUrl": "//lh5.googleusercontent.com/-sM-9Lx9a9ho/AAAAAAAAAAI/AAAAAAAAAJA/r4M9qnWrAms/s50-c-k-no/photo.jpg",
            "userId": "116077844964253791252"
          }
        }
      },
      "cell_type": "code",
      "source": [
        "eip_list = [0, 1, 2, 3, 4]\n",
        "mlblr_list = [mlblr ** 2 for mlblr in eip_list if mlblr % 2 == 0]\n",
        "print(mlblr_list)  # Prints \"[0, 4, 16]\""
      ],
      "execution_count": 13,
      "outputs": [
        {
          "output_type": "stream",
          "text": [
            "[0, 4, 16]\n"
          ],
          "name": "stdout"
        }
      ]
    },
    {
      "metadata": {
        "id": "piNTKztQDVIJ",
        "colab_type": "code",
        "colab": {
          "autoexec": {
            "startup": false,
            "wait_interval": 0
          },
          "base_uri": "https://localhost:8080/",
          "height": 119
        },
        "outputId": "4886d6d8-6749-4b9e-f849-6e9719874532",
        "executionInfo": {
          "status": "ok",
          "timestamp": 1525184069216,
          "user_tz": -330,
          "elapsed": 997,
          "user": {
            "displayName": "Ayush Kumar",
            "photoUrl": "//lh5.googleusercontent.com/-sM-9Lx9a9ho/AAAAAAAAAAI/AAAAAAAAAJA/r4M9qnWrAms/s50-c-k-no/photo.jpg",
            "userId": "116077844964253791252"
          }
        }
      },
      "cell_type": "code",
      "source": [
        "# Dictionary\n",
        "\n",
        "eip_dict = {'cat': 'cute', 'dog': 'furry'}  # Create a new dictionary with some data\n",
        "print(eip_dict['cat'])       # Get an entry from a dictionary; prints \"cute\"\n",
        "print('cat' in eip_dict)     # Check if a dictionary has a given key; prints \"True\"\n",
        "eip_dict['fish'] = 'wet'     # Set an entry in a dictionary\n",
        "print(eip_dict['fish'])      # Prints \"wet\"\n",
        "# print(eip_dict['monkey'])  # KeyError: 'monkey' not a key of eip_dict\n",
        "print(eip_dict.get('monkey', 'N/A'))  # Get an element with a default; prints \"N/A\"\n",
        "print(eip_dict.get('fish', 'N/A'))    # Get an element with a default; prints \"wet\"\n",
        "del eip_dict['fish']         # Remove an element from a dictionary\n",
        "print(eip_dict.get('fish', 'N/A')) # \"fish\" is no longer a key; prints \"N/A\"\n"
      ],
      "execution_count": 14,
      "outputs": [
        {
          "output_type": "stream",
          "text": [
            "cute\n",
            "True\n",
            "wet\n",
            "N/A\n",
            "wet\n",
            "N/A\n"
          ],
          "name": "stdout"
        }
      ]
    },
    {
      "metadata": {
        "id": "H4CqEMQoDfpE",
        "colab_type": "code",
        "colab": {
          "autoexec": {
            "startup": false,
            "wait_interval": 0
          },
          "base_uri": "https://localhost:8080/",
          "height": 68
        },
        "outputId": "5a8d4ae8-c078-4d84-c8a8-b56906715213",
        "executionInfo": {
          "status": "ok",
          "timestamp": 1525184124770,
          "user_tz": -330,
          "elapsed": 926,
          "user": {
            "displayName": "Ayush Kumar",
            "photoUrl": "//lh5.googleusercontent.com/-sM-9Lx9a9ho/AAAAAAAAAAI/AAAAAAAAAJA/r4M9qnWrAms/s50-c-k-no/photo.jpg",
            "userId": "116077844964253791252"
          }
        }
      },
      "cell_type": "code",
      "source": [
        "eip_dict = {'person': 2, 'cat': 4, 'spider': 8}\n",
        "for eip in eip_dict:\n",
        "    mlblr = eip_dict[eip]\n",
        "    print('A %s has %d legs' % (eip, mlblr))\n",
        "# Prints \"A person has 2 legs\", \"A cat has 4 legs\", \"A spider has 8 legs\""
      ],
      "execution_count": 16,
      "outputs": [
        {
          "output_type": "stream",
          "text": [
            "A person has 2 legs\n",
            "A cat has 4 legs\n",
            "A spider has 8 legs\n"
          ],
          "name": "stdout"
        }
      ]
    },
    {
      "metadata": {
        "id": "jhSMLmz3DqUL",
        "colab_type": "code",
        "colab": {
          "autoexec": {
            "startup": false,
            "wait_interval": 0
          },
          "base_uri": "https://localhost:8080/",
          "height": 68
        },
        "outputId": "a5bce09e-ffe9-4bdf-fd51-cb23193e503c",
        "executionInfo": {
          "status": "ok",
          "timestamp": 1525184171505,
          "user_tz": -330,
          "elapsed": 866,
          "user": {
            "displayName": "Ayush Kumar",
            "photoUrl": "//lh5.googleusercontent.com/-sM-9Lx9a9ho/AAAAAAAAAAI/AAAAAAAAAJA/r4M9qnWrAms/s50-c-k-no/photo.jpg",
            "userId": "116077844964253791252"
          }
        }
      },
      "cell_type": "code",
      "source": [
        "eip_dict = {'person': 2, 'cat': 4, 'spider': 8}\n",
        "for eip, mlblr in eip_dict.items():\n",
        "    print('A %s has %d legs' % (eip, mlblr))\n",
        "# Prints \"A person has 2 legs\", \"A cat has 4 legs\", \"A spider has 8 legs\""
      ],
      "execution_count": 17,
      "outputs": [
        {
          "output_type": "stream",
          "text": [
            "A person has 2 legs\n",
            "A cat has 4 legs\n",
            "A spider has 8 legs\n"
          ],
          "name": "stdout"
        }
      ]
    },
    {
      "metadata": {
        "id": "UZGh0I7KD4pb",
        "colab_type": "code",
        "colab": {
          "autoexec": {
            "startup": false,
            "wait_interval": 0
          },
          "base_uri": "https://localhost:8080/",
          "height": 34
        },
        "outputId": "d9f7f6cc-ebff-4a9c-e1e2-29b4420566bc",
        "executionInfo": {
          "status": "ok",
          "timestamp": 1525184225507,
          "user_tz": -330,
          "elapsed": 898,
          "user": {
            "displayName": "Ayush Kumar",
            "photoUrl": "//lh5.googleusercontent.com/-sM-9Lx9a9ho/AAAAAAAAAAI/AAAAAAAAAJA/r4M9qnWrAms/s50-c-k-no/photo.jpg",
            "userId": "116077844964253791252"
          }
        }
      },
      "cell_type": "code",
      "source": [
        "eip_dict = [0, 1, 2, 3, 4]\n",
        "eip_dict_to_square = {eip: eip ** 2 for eip in eip_dict if eip % 2 == 0}\n",
        "print(eip_dict_to_square)  # Prints \"{0: 0, 2: 4, 4: 16}\""
      ],
      "execution_count": 19,
      "outputs": [
        {
          "output_type": "stream",
          "text": [
            "{0: 0, 2: 4, 4: 16}\n"
          ],
          "name": "stdout"
        }
      ]
    },
    {
      "metadata": {
        "id": "dcuous0REDpp",
        "colab_type": "code",
        "colab": {
          "autoexec": {
            "startup": false,
            "wait_interval": 0
          },
          "base_uri": "https://localhost:8080/",
          "height": 119
        },
        "outputId": "ace0fd6b-613b-4698-a3ed-1fdecd318f39",
        "executionInfo": {
          "status": "ok",
          "timestamp": 1525184349075,
          "user_tz": -330,
          "elapsed": 978,
          "user": {
            "displayName": "Ayush Kumar",
            "photoUrl": "//lh5.googleusercontent.com/-sM-9Lx9a9ho/AAAAAAAAAAI/AAAAAAAAAJA/r4M9qnWrAms/s50-c-k-no/photo.jpg",
            "userId": "116077844964253791252"
          }
        }
      },
      "cell_type": "code",
      "source": [
        "# Sets\n",
        "\n",
        "mlblr_set = {'cat', 'dog'}\n",
        "print('cat' in mlblr_set)   # Check if an element is in a set; prints \"True\"\n",
        "print('fish' in mlblr_set)  # prints \"False\"\n",
        "mlblr_set.add('fish')       # Add an element to a set\n",
        "print('fish' in mlblr_set)  # Prints \"True\"\n",
        "print(len(mlblr_set))       # Number of elements in a set; prints \"3\"\n",
        "mlblr_set.add('cat')        # Adding an element that is already in the set does nothing\n",
        "print(len(mlblr_set))       # Prints \"3\"\n",
        "mlblr_set.remove('cat')     # Remove an element from a set\n",
        "print(len(mlblr_set))       # Prints \"2\""
      ],
      "execution_count": 20,
      "outputs": [
        {
          "output_type": "stream",
          "text": [
            "True\n",
            "False\n",
            "True\n",
            "3\n",
            "3\n",
            "2\n"
          ],
          "name": "stdout"
        }
      ]
    },
    {
      "metadata": {
        "id": "7nN9tzddEj-F",
        "colab_type": "code",
        "colab": {
          "autoexec": {
            "startup": false,
            "wait_interval": 0
          },
          "base_uri": "https://localhost:8080/",
          "height": 68
        },
        "outputId": "4082038b-2b15-4ffc-bb15-f5c1604383b8",
        "executionInfo": {
          "status": "ok",
          "timestamp": 1525184393723,
          "user_tz": -330,
          "elapsed": 1010,
          "user": {
            "displayName": "Ayush Kumar",
            "photoUrl": "//lh5.googleusercontent.com/-sM-9Lx9a9ho/AAAAAAAAAAI/AAAAAAAAAJA/r4M9qnWrAms/s50-c-k-no/photo.jpg",
            "userId": "116077844964253791252"
          }
        }
      },
      "cell_type": "code",
      "source": [
        "mlblr_set = {'cat', 'dog', 'fish'}\n",
        "for eip, mlblr in enumerate(mlblr_set):\n",
        "    print('#%d: %s' % (eip + 1, mlblr))\n",
        "# Prints \"#1: fish\", \"#2: dog\", \"#3: cat\""
      ],
      "execution_count": 21,
      "outputs": [
        {
          "output_type": "stream",
          "text": [
            "#1: dog\n",
            "#2: cat\n",
            "#3: fish\n"
          ],
          "name": "stdout"
        }
      ]
    },
    {
      "metadata": {
        "id": "s85jNJTaEu3R",
        "colab_type": "code",
        "colab": {
          "autoexec": {
            "startup": false,
            "wait_interval": 0
          },
          "base_uri": "https://localhost:8080/",
          "height": 34
        },
        "outputId": "d706fd60-c288-4a12-ccfc-5f5cfde50934",
        "executionInfo": {
          "status": "ok",
          "timestamp": 1525184423212,
          "user_tz": -330,
          "elapsed": 974,
          "user": {
            "displayName": "Ayush Kumar",
            "photoUrl": "//lh5.googleusercontent.com/-sM-9Lx9a9ho/AAAAAAAAAAI/AAAAAAAAAJA/r4M9qnWrAms/s50-c-k-no/photo.jpg",
            "userId": "116077844964253791252"
          }
        }
      },
      "cell_type": "code",
      "source": [
        "from math import sqrt\n",
        "mlblr_set = {int(sqrt(mlblr)) for mlblr in range(30)}\n",
        "print(mlblr_set)  # Prints \"{0, 1, 2, 3, 4, 5}\""
      ],
      "execution_count": 22,
      "outputs": [
        {
          "output_type": "stream",
          "text": [
            "{0, 1, 2, 3, 4, 5}\n"
          ],
          "name": "stdout"
        }
      ]
    },
    {
      "metadata": {
        "id": "PetWAGJXE2Eh",
        "colab_type": "code",
        "colab": {
          "autoexec": {
            "startup": false,
            "wait_interval": 0
          },
          "base_uri": "https://localhost:8080/",
          "height": 68
        },
        "outputId": "a48d80b9-5ad5-4acb-c430-db65b791f5c6",
        "executionInfo": {
          "status": "ok",
          "timestamp": 1525184492328,
          "user_tz": -330,
          "elapsed": 1190,
          "user": {
            "displayName": "Ayush Kumar",
            "photoUrl": "//lh5.googleusercontent.com/-sM-9Lx9a9ho/AAAAAAAAAAI/AAAAAAAAAJA/r4M9qnWrAms/s50-c-k-no/photo.jpg",
            "userId": "116077844964253791252"
          }
        }
      },
      "cell_type": "code",
      "source": [
        "# Tupples\n",
        "\n",
        "eip_out = {(eip, eip + 1): eip for eip in range(10)}  # Create a dictionary with tuple keys\n",
        "eip_in = (5, 6)        # Create a tuple\n",
        "print(type(eip_in))    # Prints \"<class 'tuple'>\"\n",
        "print(eip_out[eip_in])       # Prints \"5\"\n",
        "print(eip_out[(1, 2)])  # Prints \"1\""
      ],
      "execution_count": 23,
      "outputs": [
        {
          "output_type": "stream",
          "text": [
            "<class 'tuple'>\n",
            "5\n",
            "1\n"
          ],
          "name": "stdout"
        }
      ]
    },
    {
      "metadata": {
        "id": "Of6Iq0qZFMt8",
        "colab_type": "text"
      },
      "cell_type": "markdown",
      "source": [
        "**Functions**"
      ]
    },
    {
      "metadata": {
        "id": "ElQQeL_tFG5K",
        "colab_type": "code",
        "colab": {
          "autoexec": {
            "startup": false,
            "wait_interval": 0
          },
          "base_uri": "https://localhost:8080/",
          "height": 68
        },
        "outputId": "e45a1382-90a1-4535-c092-d1fd7a504214",
        "executionInfo": {
          "status": "ok",
          "timestamp": 1525184566334,
          "user_tz": -330,
          "elapsed": 902,
          "user": {
            "displayName": "Ayush Kumar",
            "photoUrl": "//lh5.googleusercontent.com/-sM-9Lx9a9ho/AAAAAAAAAAI/AAAAAAAAAJA/r4M9qnWrAms/s50-c-k-no/photo.jpg",
            "userId": "116077844964253791252"
          }
        }
      },
      "cell_type": "code",
      "source": [
        "def eip(x):\n",
        "    if x > 0:\n",
        "        return 'positive'\n",
        "    elif x < 0:\n",
        "        return 'negative'\n",
        "    else:\n",
        "        return 'zero'\n",
        "\n",
        "for mlblr in [-1, 0, 1]:\n",
        "    print(eip(mlblr))\n",
        "# Prints \"negative\", \"zero\", \"positive\""
      ],
      "execution_count": 24,
      "outputs": [
        {
          "output_type": "stream",
          "text": [
            "negative\n",
            "zero\n",
            "positive\n"
          ],
          "name": "stdout"
        }
      ]
    },
    {
      "metadata": {
        "id": "UC3OI0UWFZCI",
        "colab_type": "code",
        "colab": {
          "autoexec": {
            "startup": false,
            "wait_interval": 0
          },
          "base_uri": "https://localhost:8080/",
          "height": 51
        },
        "outputId": "d54cc403-1d24-451a-ac56-f8ac8177ac29",
        "executionInfo": {
          "status": "ok",
          "timestamp": 1525184642348,
          "user_tz": -330,
          "elapsed": 947,
          "user": {
            "displayName": "Ayush Kumar",
            "photoUrl": "//lh5.googleusercontent.com/-sM-9Lx9a9ho/AAAAAAAAAAI/AAAAAAAAAJA/r4M9qnWrAms/s50-c-k-no/photo.jpg",
            "userId": "116077844964253791252"
          }
        }
      },
      "cell_type": "code",
      "source": [
        "def mlblr(eip_in, mlblr_in=False):\n",
        "    if mlblr_in:\n",
        "        print('HELLO, %s!' % eip_in.upper())\n",
        "    else:\n",
        "        print('Hello, %s' % eip_in)\n",
        "\n",
        "mlblr('Bob') # Prints \"Hello, Bob\"\n",
        "mlblr('Fred', mlblr_in=True)  # Prints \"HELLO, FRED!\""
      ],
      "execution_count": 25,
      "outputs": [
        {
          "output_type": "stream",
          "text": [
            "Hello, Bob\n",
            "HELLO, FRED!\n"
          ],
          "name": "stdout"
        }
      ]
    },
    {
      "metadata": {
        "id": "fd3ztba3FwHo",
        "colab_type": "text"
      },
      "cell_type": "markdown",
      "source": [
        "**Classes**"
      ]
    },
    {
      "metadata": {
        "id": "HH7trMVbFrlE",
        "colab_type": "code",
        "colab": {
          "autoexec": {
            "startup": false,
            "wait_interval": 0
          },
          "base_uri": "https://localhost:8080/",
          "height": 51
        },
        "outputId": "d955865e-3bd2-4f53-f977-bc84045dbd71",
        "executionInfo": {
          "status": "ok",
          "timestamp": 1525184779572,
          "user_tz": -330,
          "elapsed": 1005,
          "user": {
            "displayName": "Ayush Kumar",
            "photoUrl": "//lh5.googleusercontent.com/-sM-9Lx9a9ho/AAAAAAAAAAI/AAAAAAAAAJA/r4M9qnWrAms/s50-c-k-no/photo.jpg",
            "userId": "116077844964253791252"
          }
        }
      },
      "cell_type": "code",
      "source": [
        "class mlr(object):\n",
        "\n",
        "    # Constructor\n",
        "    def __init__(self, mlblr_in):\n",
        "        self.mlblr_in = mlblr_in  # Create an instance variable\n",
        "\n",
        "    # Instance method\n",
        "    def mlblr_out(self, eip=False):\n",
        "        if eip:\n",
        "            print('HELLO, %s!' % self.mlblr_in.upper())\n",
        "        else:\n",
        "            print('Hello, %s' % self.mlblr_in)\n",
        "\n",
        "eip = mlr('Fred')  # Construct an instance of the mlr class\n",
        "eip.mlblr_out()            # Call an instance method; prints \"Hello, Fred\"\n",
        "eip.mlblr_out(eip=True)   # Call an instance method; prints \"HELLO, FRED!\""
      ],
      "execution_count": 26,
      "outputs": [
        {
          "output_type": "stream",
          "text": [
            "Hello, Fred\n",
            "HELLO, FRED!\n"
          ],
          "name": "stdout"
        }
      ]
    },
    {
      "metadata": {
        "id": "O71F_F8wGQuh",
        "colab_type": "text"
      },
      "cell_type": "markdown",
      "source": [
        "**Numpy Tutorial**"
      ]
    },
    {
      "metadata": {
        "id": "mIHKLvrHGNET",
        "colab_type": "code",
        "colab": {
          "autoexec": {
            "startup": false,
            "wait_interval": 0
          },
          "base_uri": "https://localhost:8080/",
          "height": 119
        },
        "outputId": "effd2089-7b1d-47ee-c24d-5c29090d86db",
        "executionInfo": {
          "status": "ok",
          "timestamp": 1525184843747,
          "user_tz": -330,
          "elapsed": 901,
          "user": {
            "displayName": "Ayush Kumar",
            "photoUrl": "//lh5.googleusercontent.com/-sM-9Lx9a9ho/AAAAAAAAAAI/AAAAAAAAAJA/r4M9qnWrAms/s50-c-k-no/photo.jpg",
            "userId": "116077844964253791252"
          }
        }
      },
      "cell_type": "code",
      "source": [
        "import numpy as np\n",
        "\n",
        "eip = np.array([1, 2, 3])   # Create a rank 1 array\n",
        "print(type(eip))            # Prints \"<class 'numpy.ndarray'>\"\n",
        "print(eip.shape)            # Prints \"(3,)\"\n",
        "print(eip[0], eip[1], eip[2])   # Prints \"1 2 3\"\n",
        "eip[0] = 5                  # Change an element of the array\n",
        "print(eip)                  # Prints \"[5, 2, 3]\"\n",
        "\n",
        "mlblr = np.array([[1,2,3],[4,5,6]])    # Create a rank 2 array\n",
        "print(mlblr.shape)                     # Prints \"(2, 3)\"\n",
        "print(mlblr[0, 0], mlblr[0, 1], mlblr[1, 0])   # Prints \"1 2 4\""
      ],
      "execution_count": 27,
      "outputs": [
        {
          "output_type": "stream",
          "text": [
            "<class 'numpy.ndarray'>\n",
            "(3,)\n",
            "1 2 3\n",
            "[5 2 3]\n",
            "(2, 3)\n",
            "1 2 4\n"
          ],
          "name": "stdout"
        }
      ]
    },
    {
      "metadata": {
        "id": "qlsjx89DGcwl",
        "colab_type": "code",
        "colab": {
          "autoexec": {
            "startup": false,
            "wait_interval": 0
          },
          "base_uri": "https://localhost:8080/",
          "height": 170
        },
        "outputId": "01debca4-2d9b-46d4-fdc8-6cd7a24ef9b4",
        "executionInfo": {
          "status": "ok",
          "timestamp": 1525184961326,
          "user_tz": -330,
          "elapsed": 1077,
          "user": {
            "displayName": "Ayush Kumar",
            "photoUrl": "//lh5.googleusercontent.com/-sM-9Lx9a9ho/AAAAAAAAAAI/AAAAAAAAAJA/r4M9qnWrAms/s50-c-k-no/photo.jpg",
            "userId": "116077844964253791252"
          }
        }
      },
      "cell_type": "code",
      "source": [
        "import numpy as np\n",
        "\n",
        "eip = np.zeros((2,2))   # Create an array of all zeros\n",
        "print(eip)              # Prints \"[[ 0.  0.]\n",
        "                      #          [ 0.  0.]]\"\n",
        "\n",
        "eip_in = np.ones((1,2))    # Create an array of all ones\n",
        "print(eip_in)              # Prints \"[[ 1.  1.]]\"\n",
        "\n",
        "eip_out = np.full((2,2), 7)  # Create a constant array\n",
        "print(eip_out)               # Prints \"[[ 7.  7.]\n",
        "                       #          [ 7.  7.]]\"\n",
        "\n",
        "mlblr = np.eye(2)         # Create a 2x2 identity matrix\n",
        "print(mlblr)              # Prints \"[[ 1.  0.]\n",
        "                      #          [ 0.  1.]]\"\n",
        "\n",
        "mlblr_in = np.random.random((2,2))  # Create an array filled with random values\n",
        "print(mlblr_in)                     # Might print \"[[ 0.91940167  0.08143941]\n",
        "                             #               [ 0.68744134  0.87236687]]\""
      ],
      "execution_count": 29,
      "outputs": [
        {
          "output_type": "stream",
          "text": [
            "[[0. 0.]\n",
            " [0. 0.]]\n",
            "[[1. 1.]]\n",
            "[[7 7]\n",
            " [7 7]]\n",
            "[[1. 0.]\n",
            " [0. 1.]]\n",
            "[[0.35895298 0.01793634]\n",
            " [0.28301882 0.22830792]]\n"
          ],
          "name": "stdout"
        }
      ]
    },
    {
      "metadata": {
        "id": "HvNMUyrFG3Te",
        "colab_type": "code",
        "colab": {
          "autoexec": {
            "startup": false,
            "wait_interval": 0
          },
          "base_uri": "https://localhost:8080/",
          "height": 51
        },
        "outputId": "53947cbd-bc4a-435d-e3d4-42c7425ec790",
        "executionInfo": {
          "status": "ok",
          "timestamp": 1525185035055,
          "user_tz": -330,
          "elapsed": 966,
          "user": {
            "displayName": "Ayush Kumar",
            "photoUrl": "//lh5.googleusercontent.com/-sM-9Lx9a9ho/AAAAAAAAAAI/AAAAAAAAAJA/r4M9qnWrAms/s50-c-k-no/photo.jpg",
            "userId": "116077844964253791252"
          }
        }
      },
      "cell_type": "code",
      "source": [
        "# Array Indexing\n",
        "import numpy as np\n",
        "\n",
        "# Create the following rank 2 array with shape (3, 4)\n",
        "# [[ 1  2  3  4]\n",
        "#  [ 5  6  7  8]\n",
        "#  [ 9 10 11 12]]\n",
        "eip = np.array([[1,2,3,4], [5,6,7,8], [9,10,11,12]])\n",
        "\n",
        "# Use slicing to pull out the subarray consisting of the first 2 rows\n",
        "# and columns 1 and 2; b is the following array of shape (2, 2):\n",
        "# [[2 3]\n",
        "#  [6 7]]\n",
        "mlblr = eip[:2, 1:3]\n",
        "\n",
        "# A slice of an array is a view into the same data, so modifying it\n",
        "# will modify the original array.\n",
        "print(eip[0, 1])   # Prints \"2\"\n",
        "mlblr[0, 0] = 77     # b[0, 0] is the same piece of data as a[0, 1]\n",
        "print(eip[0, 1])   # Prints \"77\""
      ],
      "execution_count": 30,
      "outputs": [
        {
          "output_type": "stream",
          "text": [
            "2\n",
            "77\n"
          ],
          "name": "stdout"
        }
      ]
    },
    {
      "metadata": {
        "id": "lG2PqmEBHLcv",
        "colab_type": "code",
        "colab": {
          "autoexec": {
            "startup": false,
            "wait_interval": 0
          },
          "base_uri": "https://localhost:8080/",
          "height": 119
        },
        "outputId": "51a77df6-a719-45bb-f62e-a84a2d760a49",
        "executionInfo": {
          "status": "ok",
          "timestamp": 1525185265003,
          "user_tz": -330,
          "elapsed": 1102,
          "user": {
            "displayName": "Ayush Kumar",
            "photoUrl": "//lh5.googleusercontent.com/-sM-9Lx9a9ho/AAAAAAAAAAI/AAAAAAAAAJA/r4M9qnWrAms/s50-c-k-no/photo.jpg",
            "userId": "116077844964253791252"
          }
        }
      },
      "cell_type": "code",
      "source": [
        "import numpy as np\n",
        "\n",
        "# Create the following rank 2 array with shape (3, 4)\n",
        "# [[ 1  2  3  4]\n",
        "#  [ 5  6  7  8]\n",
        "#  [ 9 10 11 12]]\n",
        "eip = np.array([[1,2,3,4], [5,6,7,8], [9,10,11,12]])\n",
        "\n",
        "# Two ways of accessing the data in the middle row of the array.\n",
        "# Mixing integer indexing with slices yields an array of lower rank,\n",
        "# while using only slices yields an array of the same rank as the\n",
        "# original array:\n",
        "eip_in = eip[1, :]    # Rank 1 view of the second row of a\n",
        "mlblr_in = eip[1:2, :]  # Rank 2 view of the second row of a\n",
        "print(eip_in, eip_in.shape)  # Prints \"[5 6 7 8] (4,)\"\n",
        "print(mlblr_in, mlblr_in.shape)  # Prints \"[[5 6 7 8]] (1, 4)\"\n",
        "\n",
        "# We can make the same distinction when accessing columns of an array:\n",
        "eip_out = eip[:, 1]\n",
        "mlblr_out = eip[:, 1:2]\n",
        "print(eip_out, eip_out.shape)  # Prints \"[ 2  6 10] (3,)\"\n",
        "print(mlblr_out, mlblr_out.shape)  # Prints \"[[ 2]\n",
        "                             #          [ 6]\n",
        "                             #          [10]] (3, 1)\""
      ],
      "execution_count": 31,
      "outputs": [
        {
          "output_type": "stream",
          "text": [
            "[5 6 7 8] (4,)\n",
            "[[5 6 7 8]] (1, 4)\n",
            "[ 2  6 10] (3,)\n",
            "[[ 2]\n",
            " [ 6]\n",
            " [10]] (3, 1)\n"
          ],
          "name": "stdout"
        }
      ]
    },
    {
      "metadata": {
        "id": "JneCeruZIDjm",
        "colab_type": "code",
        "colab": {
          "autoexec": {
            "startup": false,
            "wait_interval": 0
          },
          "base_uri": "https://localhost:8080/",
          "height": 85
        },
        "outputId": "6d1941fe-f2df-4a15-dee7-5ed9001acdc3",
        "executionInfo": {
          "status": "ok",
          "timestamp": 1525185322922,
          "user_tz": -330,
          "elapsed": 863,
          "user": {
            "displayName": "Ayush Kumar",
            "photoUrl": "//lh5.googleusercontent.com/-sM-9Lx9a9ho/AAAAAAAAAAI/AAAAAAAAAJA/r4M9qnWrAms/s50-c-k-no/photo.jpg",
            "userId": "116077844964253791252"
          }
        }
      },
      "cell_type": "code",
      "source": [
        "import numpy as np\n",
        "\n",
        "eip = np.array([[1,2], [3, 4], [5, 6]])\n",
        "\n",
        "# An example of integer array indexing.\n",
        "# The returned array will have shape (3,) and\n",
        "print(eip[[0, 1, 2], [0, 1, 0]])  # Prints \"[1 4 5]\"\n",
        "\n",
        "# The above example of integer array indexing is equivalent to this:\n",
        "print(np.array([eip[0, 0], eip[1, 1], eip[2, 0]]))  # Prints \"[1 4 5]\"\n",
        "\n",
        "# When using integer array indexing, you can reuse the same\n",
        "# element from the source array:\n",
        "print(eip[[0, 0], [1, 1]])  # Prints \"[2 2]\"\n",
        "\n",
        "# Equivalent to the previous integer array indexing example\n",
        "print(np.array([eip[0, 1], eip[0, 1]]))  # Prints \"[2 2]\""
      ],
      "execution_count": 32,
      "outputs": [
        {
          "output_type": "stream",
          "text": [
            "[1 4 5]\n",
            "[1 4 5]\n",
            "[2 2]\n",
            "[2 2]\n"
          ],
          "name": "stdout"
        }
      ]
    },
    {
      "metadata": {
        "id": "obkAqNh9IRwO",
        "colab_type": "code",
        "colab": {
          "autoexec": {
            "startup": false,
            "wait_interval": 0
          },
          "base_uri": "https://localhost:8080/",
          "height": 170
        },
        "outputId": "ce1afdd7-71c6-4bd0-f158-92f0c05d1973",
        "executionInfo": {
          "status": "ok",
          "timestamp": 1525185385717,
          "user_tz": -330,
          "elapsed": 917,
          "user": {
            "displayName": "Ayush Kumar",
            "photoUrl": "//lh5.googleusercontent.com/-sM-9Lx9a9ho/AAAAAAAAAAI/AAAAAAAAAJA/r4M9qnWrAms/s50-c-k-no/photo.jpg",
            "userId": "116077844964253791252"
          }
        }
      },
      "cell_type": "code",
      "source": [
        "import numpy as np\n",
        "\n",
        "# Create a new array from which we will select elements\n",
        "eip = np.array([[1,2,3], [4,5,6], [7,8,9], [10, 11, 12]])\n",
        "\n",
        "print(eip)  # prints \"array([[ 1,  2,  3],\n",
        "          #                [ 4,  5,  6],\n",
        "          #                [ 7,  8,  9],\n",
        "          #                [10, 11, 12]])\"\n",
        "\n",
        "# Create an array of indices\n",
        "mlblr = np.array([0, 2, 0, 1])\n",
        "\n",
        "# Select one element from each row of a using the indices in b\n",
        "print(eip[np.arange(4), mlblr])  # Prints \"[ 1  6  7 11]\"\n",
        "\n",
        "# Mutate one element from each row of a using the indices in b\n",
        "eip[np.arange(4), mlblr] += 10\n",
        "\n",
        "print(eip)  # prints \"array([[11,  2,  3],\n",
        "          #                [ 4,  5, 16],\n",
        "          #                [17,  8,  9],\n",
        "          #                [10, 21, 12]])"
      ],
      "execution_count": 33,
      "outputs": [
        {
          "output_type": "stream",
          "text": [
            "[[ 1  2  3]\n",
            " [ 4  5  6]\n",
            " [ 7  8  9]\n",
            " [10 11 12]]\n",
            "[ 1  6  7 11]\n",
            "[[11  2  3]\n",
            " [ 4  5 16]\n",
            " [17  8  9]\n",
            " [10 21 12]]\n"
          ],
          "name": "stdout"
        }
      ]
    },
    {
      "metadata": {
        "id": "X4WoTVvdIhEk",
        "colab_type": "code",
        "colab": {
          "autoexec": {
            "startup": false,
            "wait_interval": 0
          },
          "base_uri": "https://localhost:8080/",
          "height": 102
        },
        "outputId": "72576161-e26a-44b2-b9e7-19d4cc2d5ba2",
        "executionInfo": {
          "status": "ok",
          "timestamp": 1525185506095,
          "user_tz": -330,
          "elapsed": 904,
          "user": {
            "displayName": "Ayush Kumar",
            "photoUrl": "//lh5.googleusercontent.com/-sM-9Lx9a9ho/AAAAAAAAAAI/AAAAAAAAAJA/r4M9qnWrAms/s50-c-k-no/photo.jpg",
            "userId": "116077844964253791252"
          }
        }
      },
      "cell_type": "code",
      "source": [
        "# boolean array indexing\n",
        "import numpy as np\n",
        "\n",
        "eip = np.array([[1,2], [3, 4], [5, 6]])\n",
        "\n",
        "mlblr = (eip > 2)   # Find the elements of a that are bigger than 2;\n",
        "                     # this returns a numpy array of Booleans of the same\n",
        "                     # shape as a, where each slot of bool_idx tells\n",
        "                     # whether that element of a is > 2.\n",
        "\n",
        "print(mlblr)      # Prints \"[[False False]\n",
        "                     #          [ True  True]\n",
        "                     #          [ True  True]]\"\n",
        "\n",
        "# We use boolean array indexing to construct a rank 1 array\n",
        "# consisting of the elements of a corresponding to the True values\n",
        "# of bool_idx\n",
        "print(eip[mlblr])  # Prints \"[3 4 5 6]\"\n",
        "\n",
        "# We can do all of the above in a single concise statement:\n",
        "print(eip[eip > 2])     # Prints \"[3 4 5 6]\""
      ],
      "execution_count": 34,
      "outputs": [
        {
          "output_type": "stream",
          "text": [
            "[[False False]\n",
            " [ True  True]\n",
            " [ True  True]]\n",
            "[3 4 5 6]\n",
            "[3 4 5 6]\n"
          ],
          "name": "stdout"
        }
      ]
    },
    {
      "metadata": {
        "id": "-r4oVmouI-dx",
        "colab_type": "code",
        "colab": {
          "autoexec": {
            "startup": false,
            "wait_interval": 0
          },
          "base_uri": "https://localhost:8080/",
          "height": 68
        },
        "outputId": "28ec5f0d-9861-44e6-cfea-7c96def5535d",
        "executionInfo": {
          "status": "ok",
          "timestamp": 1525185562109,
          "user_tz": -330,
          "elapsed": 894,
          "user": {
            "displayName": "Ayush Kumar",
            "photoUrl": "//lh5.googleusercontent.com/-sM-9Lx9a9ho/AAAAAAAAAAI/AAAAAAAAAJA/r4M9qnWrAms/s50-c-k-no/photo.jpg",
            "userId": "116077844964253791252"
          }
        }
      },
      "cell_type": "code",
      "source": [
        "# Datatypes\n",
        "import numpy as np\n",
        "\n",
        "mlblr = np.array([1, 2])   # Let numpy choose the datatype\n",
        "print(mlblr.dtype)         # Prints \"int64\"\n",
        "\n",
        "mlblr = np.array([1.0, 2.0])   # Let numpy choose the datatype\n",
        "print(mlblr.dtype)             # Prints \"float64\"\n",
        "\n",
        "mlblr = np.array([1, 2], dtype=np.int64)   # Force a particular datatype\n",
        "print(mlblr.dtype)                         # Prints \"int64\""
      ],
      "execution_count": 35,
      "outputs": [
        {
          "output_type": "stream",
          "text": [
            "int64\n",
            "float64\n",
            "int64\n"
          ],
          "name": "stdout"
        }
      ]
    },
    {
      "metadata": {
        "id": "lyOVwaK8JMJJ",
        "colab_type": "code",
        "colab": {
          "autoexec": {
            "startup": false,
            "wait_interval": 0
          },
          "base_uri": "https://localhost:8080/",
          "height": 323
        },
        "outputId": "a9326077-c2e8-4a13-c84b-8e1fa8e37694",
        "executionInfo": {
          "status": "ok",
          "timestamp": 1525185613235,
          "user_tz": -330,
          "elapsed": 894,
          "user": {
            "displayName": "Ayush Kumar",
            "photoUrl": "//lh5.googleusercontent.com/-sM-9Lx9a9ho/AAAAAAAAAAI/AAAAAAAAAJA/r4M9qnWrAms/s50-c-k-no/photo.jpg",
            "userId": "116077844964253791252"
          }
        }
      },
      "cell_type": "code",
      "source": [
        "# Array math\n",
        "import numpy as np\n",
        "\n",
        "eip = np.array([[1,2],[3,4]], dtype=np.float64)\n",
        "mlblr = np.array([[5,6],[7,8]], dtype=np.float64)\n",
        "\n",
        "# Elementwise sum; both produce the array\n",
        "# [[ 6.0  8.0]\n",
        "#  [10.0 12.0]]\n",
        "print(eip + mlblr)\n",
        "print(np.add(eip, mlblr))\n",
        "\n",
        "# Elementwise difference; both produce the array\n",
        "# [[-4.0 -4.0]\n",
        "#  [-4.0 -4.0]]\n",
        "print(eip - mlblr)\n",
        "print(np.subtract(eip, mlblr))\n",
        "\n",
        "# Elementwise product; both produce the array\n",
        "# [[ 5.0 12.0]\n",
        "#  [21.0 32.0]]\n",
        "print(eip * mlblr)\n",
        "print(np.multiply(eip, mlblr))\n",
        "\n",
        "# Elementwise division; both produce the array\n",
        "# [[ 0.2         0.33333333]\n",
        "#  [ 0.42857143  0.5       ]]\n",
        "print(eip / mlblr)\n",
        "print(np.divide(eip, mlblr))\n",
        "\n",
        "# Elementwise square root; produces the array\n",
        "# [[ 1.          1.41421356]\n",
        "#  [ 1.73205081  2.        ]]\n",
        "print(np.sqrt(eip))"
      ],
      "execution_count": 36,
      "outputs": [
        {
          "output_type": "stream",
          "text": [
            "[[ 6.  8.]\n",
            " [10. 12.]]\n",
            "[[ 6.  8.]\n",
            " [10. 12.]]\n",
            "[[-4. -4.]\n",
            " [-4. -4.]]\n",
            "[[-4. -4.]\n",
            " [-4. -4.]]\n",
            "[[ 5. 12.]\n",
            " [21. 32.]]\n",
            "[[ 5. 12.]\n",
            " [21. 32.]]\n",
            "[[0.2        0.33333333]\n",
            " [0.42857143 0.5       ]]\n",
            "[[0.2        0.33333333]\n",
            " [0.42857143 0.5       ]]\n",
            "[[1.         1.41421356]\n",
            " [1.73205081 2.        ]]\n"
          ],
          "name": "stdout"
        }
      ]
    },
    {
      "metadata": {
        "id": "32J7Pg__JYn_",
        "colab_type": "code",
        "colab": {
          "autoexec": {
            "startup": false,
            "wait_interval": 0
          },
          "base_uri": "https://localhost:8080/",
          "height": 153
        },
        "outputId": "7a20343a-6b79-4065-de66-7d413e7155a8",
        "executionInfo": {
          "status": "ok",
          "timestamp": 1525185697162,
          "user_tz": -330,
          "elapsed": 938,
          "user": {
            "displayName": "Ayush Kumar",
            "photoUrl": "//lh5.googleusercontent.com/-sM-9Lx9a9ho/AAAAAAAAAAI/AAAAAAAAAJA/r4M9qnWrAms/s50-c-k-no/photo.jpg",
            "userId": "116077844964253791252"
          }
        }
      },
      "cell_type": "code",
      "source": [
        "import numpy as np\n",
        "\n",
        "eip_in = np.array([[1,2],[3,4]])\n",
        "eip_out = np.array([[5,6],[7,8]])\n",
        "\n",
        "mlblr_in = np.array([9,10])\n",
        "mlblr_out = np.array([11, 12])\n",
        "\n",
        "# Inner product of vectors; both produce 219\n",
        "print(mlblr_in.dot(mlblr_out))\n",
        "print(np.dot(mlblr_in, mlblr_out))\n",
        "\n",
        "# Matrix / vector product; both produce the rank 1 array [29 67]\n",
        "print(eip_in.dot(mlblr_in))\n",
        "print(np.dot(eip_in, mlblr_in))\n",
        "\n",
        "# Matrix / matrix product; both produce the rank 2 array\n",
        "# [[19 22]\n",
        "#  [43 50]]\n",
        "print(eip_in.dot(eip_out))\n",
        "print(np.dot(eip_in, eip_out))"
      ],
      "execution_count": 37,
      "outputs": [
        {
          "output_type": "stream",
          "text": [
            "219\n",
            "219\n",
            "[29 67]\n",
            "[29 67]\n",
            "[[19 22]\n",
            " [43 50]]\n",
            "[[19 22]\n",
            " [43 50]]\n"
          ],
          "name": "stdout"
        }
      ]
    },
    {
      "metadata": {
        "id": "9wIscFkxJtGn",
        "colab_type": "code",
        "colab": {
          "autoexec": {
            "startup": false,
            "wait_interval": 0
          },
          "base_uri": "https://localhost:8080/",
          "height": 68
        },
        "outputId": "21332bcb-0f2e-44f2-9737-75bf865e1f2d",
        "executionInfo": {
          "status": "ok",
          "timestamp": 1525186342227,
          "user_tz": -330,
          "elapsed": 865,
          "user": {
            "displayName": "Ayush Kumar",
            "photoUrl": "//lh5.googleusercontent.com/-sM-9Lx9a9ho/AAAAAAAAAAI/AAAAAAAAAJA/r4M9qnWrAms/s50-c-k-no/photo.jpg",
            "userId": "116077844964253791252"
          }
        }
      },
      "cell_type": "code",
      "source": [
        "import numpy as np\n",
        "\n",
        "eip = np.array([[1,2],[3,4]])\n",
        "\n",
        "print(np.sum(eip))  # Compute sum of all elements; prints \"10\"\n",
        "print(np.sum(eip, axis=0))  # Compute sum of each column; prints \"[4 6]\"\n",
        "print(np.sum(eip, axis=1))  # Compute sum of each row; prints \"[3 7]\""
      ],
      "execution_count": 38,
      "outputs": [
        {
          "output_type": "stream",
          "text": [
            "10\n",
            "[4 6]\n",
            "[3 7]\n"
          ],
          "name": "stdout"
        }
      ]
    },
    {
      "metadata": {
        "id": "srTnqBq2MKm0",
        "colab_type": "code",
        "colab": {
          "autoexec": {
            "startup": false,
            "wait_interval": 0
          },
          "base_uri": "https://localhost:8080/",
          "height": 119
        },
        "outputId": "b8ecafa1-ae63-4af9-ad21-0ca420bd5c4f",
        "executionInfo": {
          "status": "ok",
          "timestamp": 1525186390035,
          "user_tz": -330,
          "elapsed": 896,
          "user": {
            "displayName": "Ayush Kumar",
            "photoUrl": "//lh5.googleusercontent.com/-sM-9Lx9a9ho/AAAAAAAAAAI/AAAAAAAAAJA/r4M9qnWrAms/s50-c-k-no/photo.jpg",
            "userId": "116077844964253791252"
          }
        }
      },
      "cell_type": "code",
      "source": [
        "import numpy as np\n",
        "\n",
        "eip = np.array([[1,2], [3,4]])\n",
        "print(eip)    # Prints \"[[1 2]\n",
        "            #          [3 4]]\"\n",
        "print(eip.T)  # Prints \"[[1 3]\n",
        "            #          [2 4]]\"\n",
        "\n",
        "# Note that taking the transpose of a rank 1 array does nothing:\n",
        "mlblr = np.array([1,2,3])\n",
        "print(mlblr)    # Prints \"[1 2 3]\"\n",
        "print(mlblr.T)  # Prints \"[1 2 3]\""
      ],
      "execution_count": 39,
      "outputs": [
        {
          "output_type": "stream",
          "text": [
            "[[1 2]\n",
            " [3 4]]\n",
            "[[1 3]\n",
            " [2 4]]\n",
            "[1 2 3]\n",
            "[1 2 3]\n"
          ],
          "name": "stdout"
        }
      ]
    },
    {
      "metadata": {
        "id": "WmzZSXmWMWRZ",
        "colab_type": "code",
        "colab": {
          "autoexec": {
            "startup": false,
            "wait_interval": 0
          },
          "base_uri": "https://localhost:8080/",
          "height": 85
        },
        "outputId": "a9194e87-8abd-46d9-cddf-057f91e606ad",
        "executionInfo": {
          "status": "ok",
          "timestamp": 1525186464377,
          "user_tz": -330,
          "elapsed": 963,
          "user": {
            "displayName": "Ayush Kumar",
            "photoUrl": "//lh5.googleusercontent.com/-sM-9Lx9a9ho/AAAAAAAAAAI/AAAAAAAAAJA/r4M9qnWrAms/s50-c-k-no/photo.jpg",
            "userId": "116077844964253791252"
          }
        }
      },
      "cell_type": "code",
      "source": [
        "import numpy as np\n",
        "\n",
        "# We will add the vector eip_in to each row of the matrix eip,\n",
        "# storing the result in the matrix mlblr\n",
        "eip = np.array([[1,2,3], [4,5,6], [7,8,9], [10, 11, 12]])\n",
        "eip_in = np.array([1, 0, 1])\n",
        "mlblr = np.empty_like(eip)   # Create an empty matrix with the same shape as eip\n",
        "\n",
        "# Add the vector eip_in to each row of the matrix eip with an explicit loop\n",
        "for mlblr_in in range(4):\n",
        "    mlblr[mlblr_in, :] = eip[mlblr_in, :] + eip_in\n",
        "\n",
        "# Now mlblr is the following\n",
        "# [[ 2  2  4]\n",
        "#  [ 5  5  7]\n",
        "#  [ 8  8 10]\n",
        "#  [11 11 13]]\n",
        "print(mlblr)"
      ],
      "execution_count": 40,
      "outputs": [
        {
          "output_type": "stream",
          "text": [
            "[[ 2  2  4]\n",
            " [ 5  5  7]\n",
            " [ 8  8 10]\n",
            " [11 11 13]]\n"
          ],
          "name": "stdout"
        }
      ]
    },
    {
      "metadata": {
        "id": "mBWW9a6OMoZ3",
        "colab_type": "code",
        "colab": {
          "autoexec": {
            "startup": false,
            "wait_interval": 0
          },
          "base_uri": "https://localhost:8080/",
          "height": 153
        },
        "outputId": "f56f23ed-9707-409a-eb36-1a31ac9eab88",
        "executionInfo": {
          "status": "ok",
          "timestamp": 1525186580138,
          "user_tz": -330,
          "elapsed": 1148,
          "user": {
            "displayName": "Ayush Kumar",
            "photoUrl": "//lh5.googleusercontent.com/-sM-9Lx9a9ho/AAAAAAAAAAI/AAAAAAAAAJA/r4M9qnWrAms/s50-c-k-no/photo.jpg",
            "userId": "116077844964253791252"
          }
        }
      },
      "cell_type": "code",
      "source": [
        "import numpy as np\n",
        "\n",
        "# We will add the vector mlblr to each row of the matrix eip,\n",
        "# storing the result in the matrix mlblr_in\n",
        "eip = np.array([[1,2,3], [4,5,6], [7,8,9], [10, 11, 12]])\n",
        "mlblr = np.array([1, 0, 1])\n",
        "eip_in = np.tile(mlblr, (4, 1))   # Stack 4 copies of mlblr on top of each other\n",
        "print(eip_in)                 # Prints \"[[1 0 1]\n",
        "                          #          [1 0 1]\n",
        "                          #          [1 0 1]\n",
        "                          #          [1 0 1]]\"\n",
        "mlblr_in = eip + eip_in  # Add eip and eip_in elementwise\n",
        "print(mlblr_in)  # Prints \"[[ 2  2  4\n",
        "          #          [ 5  5  7]\n",
        "          #          [ 8  8 10]\n",
        "          #          [11 11 13]]\""
      ],
      "execution_count": 41,
      "outputs": [
        {
          "output_type": "stream",
          "text": [
            "[[1 0 1]\n",
            " [1 0 1]\n",
            " [1 0 1]\n",
            " [1 0 1]]\n",
            "[[ 2  2  4]\n",
            " [ 5  5  7]\n",
            " [ 8  8 10]\n",
            " [11 11 13]]\n"
          ],
          "name": "stdout"
        }
      ]
    },
    {
      "metadata": {
        "id": "dVH7dRswNEns",
        "colab_type": "code",
        "colab": {
          "autoexec": {
            "startup": false,
            "wait_interval": 0
          },
          "base_uri": "https://localhost:8080/",
          "height": 85
        },
        "outputId": "17da197e-5f44-4ecd-be26-e9d68b88d418",
        "executionInfo": {
          "status": "ok",
          "timestamp": 1525186729405,
          "user_tz": -330,
          "elapsed": 871,
          "user": {
            "displayName": "Ayush Kumar",
            "photoUrl": "//lh5.googleusercontent.com/-sM-9Lx9a9ho/AAAAAAAAAAI/AAAAAAAAAJA/r4M9qnWrAms/s50-c-k-no/photo.jpg",
            "userId": "116077844964253791252"
          }
        }
      },
      "cell_type": "code",
      "source": [
        "import numpy as np\n",
        "\n",
        "# We will add the vector eip_in to each row of the matrix eip,\n",
        "# storing the result in the matrix mlblr\n",
        "eip = np.array([[1,2,3], [4,5,6], [7,8,9], [10, 11, 12]])\n",
        "eip_in = np.array([1, 0, 1])\n",
        "mlblr = eip + eip_in  # Add v to each row of eip using broadcasting\n",
        "print(mlblr)  # Prints \"[[ 2  2  4]\n",
        "          #          [ 5  5  7]\n",
        "          #          [ 8  8 10]\n",
        "          #          [11 11 13]]\""
      ],
      "execution_count": 42,
      "outputs": [
        {
          "output_type": "stream",
          "text": [
            "[[ 2  2  4]\n",
            " [ 5  5  7]\n",
            " [ 8  8 10]\n",
            " [11 11 13]]\n"
          ],
          "name": "stdout"
        }
      ]
    },
    {
      "metadata": {
        "id": "3QHLIajoNpIL",
        "colab_type": "code",
        "colab": {
          "autoexec": {
            "startup": false,
            "wait_interval": 0
          },
          "base_uri": "https://localhost:8080/",
          "height": 204
        },
        "outputId": "b630cf8a-148f-44e9-ab32-51f2859d742f",
        "executionInfo": {
          "status": "ok",
          "timestamp": 1525186789796,
          "user_tz": -330,
          "elapsed": 897,
          "user": {
            "displayName": "Ayush Kumar",
            "photoUrl": "//lh5.googleusercontent.com/-sM-9Lx9a9ho/AAAAAAAAAAI/AAAAAAAAAJA/r4M9qnWrAms/s50-c-k-no/photo.jpg",
            "userId": "116077844964253791252"
          }
        }
      },
      "cell_type": "code",
      "source": [
        "import numpy as np\n",
        "\n",
        "# Compute outer product of vectors\n",
        "eip_in = np.array([1,2,3])  # eip_in has shape (3,)\n",
        "eip_out = np.array([4,5])    # eip_out has shape (2,)\n",
        "# To compute an outer product, we first reshape eip_in to be a column\n",
        "# vector of shape (3, 1); we can then broadcast it against eip_out to yield\n",
        "# an output of shape (3, 2), which is the outer product of eip_in and eip_out:\n",
        "# [[ 4  5]\n",
        "#  [ 8 10]\n",
        "#  [12 15]]\n",
        "print(np.reshape(eip_in, (3, 1)) * eip_out)\n",
        "\n",
        "# Add a vector to each row of a matrix\n",
        "eip = np.array([[1,2,3], [4,5,6]])\n",
        "# eip has shape (2, 3) and eip_in has shape (3,) so they broadcast to (2, 3),\n",
        "# giving the following matrix:\n",
        "# [[2 4 6]\n",
        "#  [5 7 9]]\n",
        "print(eip + eip_in)\n",
        "\n",
        "# Add a vector to each column of a matrix\n",
        "# eip has shape (2, 3) and eip_out has shape (2,).\n",
        "# If we transpose eip then it has shape (3, 2) and can be broadcast\n",
        "# against eip_out to yield a result of shape (3, 2); transposing this result\n",
        "# yields the final result of shape (2, 3) which is the matrix eip with\n",
        "# the vector eip_out added to each column. Gives the following matrix:\n",
        "# [[ 5  6  7]\n",
        "#  [ 9 10 11]]\n",
        "print((eip.T + eip_out).T)\n",
        "# Another solution is to reshape eip_out to be a column vector of shape (2, 1);\n",
        "# we can then broadcast it directly against eip to produce the same\n",
        "# output.\n",
        "print(eip + np.reshape(eip_out, (2, 1)))\n",
        "\n",
        "# Multiply a matrix by a constant:\n",
        "# eip has shape (2, 3). Numpy treats scalars as arrays of shape ();\n",
        "# these can be broadcast together to shape (2, 3), producing the\n",
        "# following array:\n",
        "# [[ 2  4  6]\n",
        "#  [ 8 10 12]]\n",
        "print(eip * 2)"
      ],
      "execution_count": 43,
      "outputs": [
        {
          "output_type": "stream",
          "text": [
            "[[ 4  5]\n",
            " [ 8 10]\n",
            " [12 15]]\n",
            "[[2 4 6]\n",
            " [5 7 9]]\n",
            "[[ 5  6  7]\n",
            " [ 9 10 11]]\n",
            "[[ 5  6  7]\n",
            " [ 9 10 11]]\n",
            "[[ 2  4  6]\n",
            " [ 8 10 12]]\n"
          ],
          "name": "stdout"
        }
      ]
    },
    {
      "metadata": {
        "id": "vYbO3bErN-gg",
        "colab_type": "text"
      },
      "cell_type": "markdown",
      "source": [
        "**Scipy: Image Operation**"
      ]
    },
    {
      "metadata": {
        "id": "FasA42_TN33h",
        "colab_type": "code",
        "colab": {
          "autoexec": {
            "startup": false,
            "wait_interval": 0
          },
          "base_uri": "https://localhost:8080/",
          "height": 122
        },
        "outputId": "4e41a353-504a-4deb-cf8c-df8a8b5df516",
        "executionInfo": {
          "status": "ok",
          "timestamp": 1525187169691,
          "user_tz": -330,
          "elapsed": 3216,
          "user": {
            "displayName": "Ayush Kumar",
            "photoUrl": "//lh5.googleusercontent.com/-sM-9Lx9a9ho/AAAAAAAAAAI/AAAAAAAAAJA/r4M9qnWrAms/s50-c-k-no/photo.jpg",
            "userId": "116077844964253791252"
          }
        }
      },
      "cell_type": "code",
      "source": [
        "from scipy.misc import imread, imsave, imresize\n",
        "from urllib.request import urlopen\n",
        "\n",
        "# Read an JPEG image into a numpy array\n",
        "url = 'http://www.petsworld.in/blog/wp-content/uploads/2014/09/adorable-cat.jpg'\n",
        "with urlopen(url) as file:\n",
        "    eip_in = imread(file, mode='RGB')\n",
        "#eip_in = imread()\n",
        "print(eip_in.dtype, eip_in.shape)  # Prints \"uint8 (400, 248, 3)\"\n",
        "\n",
        "# We can tint the image by scaling each of the color channels\n",
        "# by a different scalar constant. The image has shape (400, 248, 3);\n",
        "# we multiply it by the array [1, 0.95, 0.9] of shape (3,);\n",
        "# numpy broadcasting means that this leaves the red channel unchanged,\n",
        "# and multiplies the green and blue channels by 0.95 and 0.9\n",
        "# respectively.\n",
        "eip_out = eip_in * [1, 0.95, 0.9]\n",
        "\n",
        "# Resize the tinted image to be 300 by 300 pixels.\n",
        "eip_out = imresize(eip_out, (300, 300))\n",
        "\n",
        "# Write the tinted image back to disk\n",
        "imsave('cat_tinted.jpg', eip_out)"
      ],
      "execution_count": 46,
      "outputs": [
        {
          "output_type": "stream",
          "text": [
            "uint8 (1080, 1920, 3)\n"
          ],
          "name": "stdout"
        },
        {
          "output_type": "stream",
          "text": [
            "/usr/local/lib/python3.6/dist-packages/scipy/misc/pilutil.py:482: FutureWarning: Conversion of the second argument of issubdtype from `int` to `np.signedinteger` is deprecated. In future, it will be treated as `np.int64 == np.dtype(int).type`.\n",
            "  if issubdtype(ts, int):\n",
            "/usr/local/lib/python3.6/dist-packages/scipy/misc/pilutil.py:485: FutureWarning: Conversion of the second argument of issubdtype from `float` to `np.floating` is deprecated. In future, it will be treated as `np.float64 == np.dtype(float).type`.\n",
            "  elif issubdtype(type(size), float):\n"
          ],
          "name": "stderr"
        }
      ]
    },
    {
      "metadata": {
        "id": "yejFiKoNPt4q",
        "colab_type": "text"
      },
      "cell_type": "markdown",
      "source": [
        "![cute_cat](http://www.petsworld.in/blog/wp-content/uploads/2014/09/adorable-cat.jpg =300x200)"
      ]
    },
    {
      "metadata": {
        "id": "TcCGN_pvQz6R",
        "colab_type": "text"
      },
      "cell_type": "markdown",
      "source": [
        "**Matlab Tutorial**"
      ]
    },
    {
      "metadata": {
        "id": "bLVvQhNyQK0o",
        "colab_type": "code",
        "colab": {
          "autoexec": {
            "startup": false,
            "wait_interval": 0
          },
          "base_uri": "https://localhost:8080/",
          "height": 119
        },
        "outputId": "be4a68bb-2188-400e-8bfe-cf586dd998e0",
        "executionInfo": {
          "status": "ok",
          "timestamp": 1525187631113,
          "user_tz": -330,
          "elapsed": 1125,
          "user": {
            "displayName": "Ayush Kumar",
            "photoUrl": "//lh5.googleusercontent.com/-sM-9Lx9a9ho/AAAAAAAAAAI/AAAAAAAAAJA/r4M9qnWrAms/s50-c-k-no/photo.jpg",
            "userId": "116077844964253791252"
          }
        }
      },
      "cell_type": "code",
      "source": [
        "# Distance between points\n",
        "\n",
        "import numpy as np\n",
        "from scipy.spatial.distance import pdist, squareform\n",
        "\n",
        "# Create the following array where each row is a point in 2D space:\n",
        "# [[0 1]\n",
        "#  [1 0]\n",
        "#  [2 0]]\n",
        "eip = np.array([[0, 1], [1, 0], [2, 0]])\n",
        "print(eip)\n",
        "\n",
        "# Compute the Euclidean distance between all rows of x.\n",
        "# d[i, j] is the Euclidean distance between x[i, :] and x[j, :],\n",
        "# and d is the following array:\n",
        "# [[ 0.          1.41421356  2.23606798]\n",
        "#  [ 1.41421356  0.          1.        ]\n",
        "#  [ 2.23606798  1.          0.        ]]\n",
        "mlblr = squareform(pdist(eip, 'euclidean'))\n",
        "print(mlblr)"
      ],
      "execution_count": 48,
      "outputs": [
        {
          "output_type": "stream",
          "text": [
            "[[0 1]\n",
            " [1 0]\n",
            " [2 0]]\n",
            "[[0.         1.41421356 2.23606798]\n",
            " [1.41421356 0.         1.        ]\n",
            " [2.23606798 1.         0.        ]]\n"
          ],
          "name": "stdout"
        }
      ]
    },
    {
      "metadata": {
        "id": "xHpGfk0TRFNm",
        "colab_type": "code",
        "colab": {
          "autoexec": {
            "startup": false,
            "wait_interval": 0
          },
          "base_uri": "https://localhost:8080/",
          "height": 347
        },
        "outputId": "1a20451b-f486-4a80-e7e5-92bc4f0c69e3",
        "executionInfo": {
          "status": "ok",
          "timestamp": 1525187678789,
          "user_tz": -330,
          "elapsed": 1383,
          "user": {
            "displayName": "Ayush Kumar",
            "photoUrl": "//lh5.googleusercontent.com/-sM-9Lx9a9ho/AAAAAAAAAAI/AAAAAAAAAJA/r4M9qnWrAms/s50-c-k-no/photo.jpg",
            "userId": "116077844964253791252"
          }
        }
      },
      "cell_type": "code",
      "source": [
        "# matplot plotting\n",
        "import numpy as np\n",
        "import matplotlib.pyplot as plt\n",
        "\n",
        "# Compute the x and y coordinates for points on a sine curve\n",
        "mlblr = np.arange(0, 3 * np.pi, 0.1)\n",
        "eip = np.sin(mlblr)\n",
        "\n",
        "# Plot the points using matplotlib\n",
        "plt.plot(mlblr, eip)\n",
        "plt.show()  # You must call plt.show() to make graphics appear."
      ],
      "execution_count": 49,
      "outputs": [
        {
          "output_type": "display_data",
          "data": {
            "image/png": "[encoded data removed]",
            "text/plain": [
              "<matplotlib.figure.Figure at 0x7f02f82a3438>"
            ]
          },
          "metadata": {
            "tags": []
          }
        }
      ]
    },
    {
      "metadata": {
        "id": "IKyO_6oeRQyj",
        "colab_type": "code",
        "colab": {
          "autoexec": {
            "startup": false,
            "wait_interval": 0
          },
          "base_uri": "https://localhost:8080/",
          "height": 376
        },
        "outputId": "d0d9979a-e6e7-449e-a922-6e6ae8d087e5",
        "executionInfo": {
          "status": "ok",
          "timestamp": 1525187791926,
          "user_tz": -330,
          "elapsed": 1221,
          "user": {
            "displayName": "Ayush Kumar",
            "photoUrl": "//lh5.googleusercontent.com/-sM-9Lx9a9ho/AAAAAAAAAAI/AAAAAAAAAJA/r4M9qnWrAms/s50-c-k-no/photo.jpg",
            "userId": "116077844964253791252"
          }
        }
      },
      "cell_type": "code",
      "source": [
        "import numpy as np\n",
        "import matplotlib.pyplot as plt\n",
        "\n",
        "# Compute the eip and y coordinates for points on sine and cosine curves\n",
        "eip = np.arange(0, 3 * np.pi, 0.1)\n",
        "mlblr_in = np.sin(eip)\n",
        "mlblr_out = np.cos(eip)\n",
        "\n",
        "# Plot the points using matplotlib\n",
        "plt.plot(eip, mlblr_in)\n",
        "plt.plot(eip, mlblr_out)\n",
        "plt.xlabel('x axis label')\n",
        "plt.ylabel('y axis label')\n",
        "plt.title('Sine and Cosine')\n",
        "plt.legend(['Sine', 'Cosine'])\n",
        "plt.show()"
      ],
      "execution_count": 50,
      "outputs": [
        {
          "output_type": "display_data",
          "data": {
            "image/png": "[encoded data removed]",
            "text/plain": [
              "<matplotlib.figure.Figure at 0x7f02f7bf0c88>"
            ]
          },
          "metadata": {
            "tags": []
          }
        }
      ]
    },
    {
      "metadata": {
        "id": "-Nv9aVikRscy",
        "colab_type": "code",
        "colab": {
          "autoexec": {
            "startup": false,
            "wait_interval": 0
          },
          "base_uri": "https://localhost:8080/",
          "height": 362
        },
        "outputId": "f86f144f-1d8b-4a9e-e2c4-3b44a59ac3bb",
        "executionInfo": {
          "status": "ok",
          "timestamp": 1525187858593,
          "user_tz": -330,
          "elapsed": 984,
          "user": {
            "displayName": "Ayush Kumar",
            "photoUrl": "//lh5.googleusercontent.com/-sM-9Lx9a9ho/AAAAAAAAAAI/AAAAAAAAAJA/r4M9qnWrAms/s50-c-k-no/photo.jpg",
            "userId": "116077844964253791252"
          }
        }
      },
      "cell_type": "code",
      "source": [
        "#Sub-plot\n",
        "import numpy as np\n",
        "import matplotlib.pyplot as plt\n",
        "\n",
        "# Compute the x and y coordinates for points on sine and cosine curves\n",
        "eip = np.arange(0, 3 * np.pi, 0.1)\n",
        "mlblr_in = np.sin(eip)\n",
        "mlblr_out = np.cos(eip)\n",
        "\n",
        "# Set up a subplot grid that has height 2 and width 1,\n",
        "# and set the first such subplot as active.\n",
        "plt.subplot(2, 1, 1)\n",
        "\n",
        "# Make the first plot\n",
        "plt.plot(eip, mlblr_in)\n",
        "plt.title('Sine')\n",
        "\n",
        "# Set the second subplot as active, and make the second plot.\n",
        "plt.subplot(2, 1, 2)\n",
        "plt.plot(eip, mlblr_out)\n",
        "plt.title('Cosine')\n",
        "\n",
        "# Show the figure.\n",
        "plt.show()"
      ],
      "execution_count": 51,
      "outputs": [
        {
          "output_type": "display_data",
          "data": {
            "image/png": "[encoded data removed]",
            "text/plain": [
              "<matplotlib.figure.Figure at 0x7f02f5b85898>"
            ]
          },
          "metadata": {
            "tags": []
          }
        }
      ]
    },
    {
      "metadata": {
        "id": "UViahFEJR8yA",
        "colab_type": "code",
        "colab": {
          "autoexec": {
            "startup": false,
            "wait_interval": 0
          },
          "base_uri": "https://localhost:8080/",
          "height": 166
        },
        "outputId": "cdea625d-8c72-496d-833b-33bf165bc95c",
        "executionInfo": {
          "status": "ok",
          "timestamp": 1525187954856,
          "user_tz": -330,
          "elapsed": 2583,
          "user": {
            "displayName": "Ayush Kumar",
            "photoUrl": "//lh5.googleusercontent.com/-sM-9Lx9a9ho/AAAAAAAAAAI/AAAAAAAAAJA/r4M9qnWrAms/s50-c-k-no/photo.jpg",
            "userId": "116077844964253791252"
          }
        }
      },
      "cell_type": "code",
      "source": [
        "import numpy as np\n",
        "from scipy.misc import imread, imresize\n",
        "import matplotlib.pyplot as plt\n",
        "from urllib.request import urlopen\n",
        "\n",
        "# Read an JPEG image into a numpy array\n",
        "url = 'http://www.petsworld.in/blog/wp-content/uploads/2014/09/adorable-cat.jpg'\n",
        "with urlopen(url) as file:\n",
        "    mlblr = imread(file, mode='RGB')\n",
        "# mlblr = imread('assets/cat.jpg')\n",
        "eip = mlblr * [1, 0.95, 0.9]\n",
        "\n",
        "# Show the original image\n",
        "plt.subplot(1, 2, 1)\n",
        "plt.imshow(mlblr)\n",
        "\n",
        "# Show the tinted image\n",
        "plt.subplot(1, 2, 2)\n",
        "\n",
        "# A slight gotcha with imshow is that it might give strange results\n",
        "# if presented with data that is not uint8. To work around this, we\n",
        "# explicitly cast the image to uint8 before displaying it.\n",
        "plt.imshow(np.uint8(eip))\n",
        "plt.show()"
      ],
      "execution_count": 53,
      "outputs": [
        {
          "output_type": "display_data",
          "data": {
            "image/png": "[encoded data removed]",
            "text/plain": [
              "<matplotlib.figure.Figure at 0x7f02f5b246a0>"
            ]
          },
          "metadata": {
            "tags": []
          }
        }
      ]
    },
    {
      "metadata": {
        "id": "0DaOrgEQSIOu",
        "colab_type": "code",
        "colab": {
          "autoexec": {
            "startup": false,
            "wait_interval": 0
          }
        }
      },
      "cell_type": "code",
      "source": [
        ""
      ],
      "execution_count": 0,
      "outputs": []
    }
  ]
}
